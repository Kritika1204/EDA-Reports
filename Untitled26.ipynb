{
  "nbformat": 4,
  "nbformat_minor": 0,
  "metadata": {
    "colab": {
      "name": "Untitled26.ipynb",
      "provenance": [],
      "toc_visible": true,
      "authorship_tag": "ABX9TyMaNQjYRVbLBxovlJQHriNH",
      "include_colab_link": true
    },
    "kernelspec": {
      "name": "python3",
      "display_name": "Python 3"
    }
  },
  "cells": [
    {
      "cell_type": "markdown",
      "metadata": {
        "id": "view-in-github",
        "colab_type": "text"
      },
      "source": [
        "<a href=\"https://colab.research.google.com/github/Kritika1204/EDA-Reports/blob/master/Untitled26.ipynb\" target=\"_parent\"><img src=\"https://colab.research.google.com/assets/colab-badge.svg\" alt=\"Open In Colab\"/></a>"
      ]
    },
    {
      "cell_type": "code",
      "metadata": {
        "id": "We3gx5D8yBYf",
        "colab_type": "code",
        "colab": {}
      },
      "source": [
        ""
      ],
      "execution_count": 0,
      "outputs": []
    },
    {
      "cell_type": "markdown",
      "metadata": {
        "id": "A1-QDdHmyDbT",
        "colab_type": "text"
      },
      "source": [
        "#Numerical Analysis : Application of Roots"
      ]
    },
    {
      "cell_type": "markdown",
      "metadata": {
        "id": "qWnTdXPiyRyG",
        "colab_type": "text"
      },
      "source": [
        "**Firstly we are going to plot some data points.**"
      ]
    },
    {
      "cell_type": "code",
      "metadata": {
        "id": "_V7cefoqyNBk",
        "colab_type": "code",
        "outputId": "ab98d2f6-7689-4ad4-b252-6729007b8d11",
        "colab": {
          "base_uri": "https://localhost:8080/",
          "height": 265
        }
      },
      "source": [
        "import numpy as np\n",
        "import matplotlib.pyplot as plt\n",
        "\n",
        "np.random.seed(0)\n",
        "x = 2 - 3 * np.random.normal(0, 1, 20)\n",
        "y = x - 2 * (x ** 2) + 0.5 * (x ** 3) + np.random.normal(-3, 3, 20)\n",
        "plt.scatter(x,y, s=10)\n",
        "plt.show()"
      ],
      "execution_count": 0,
      "outputs": [
        {
          "output_type": "display_data",
          "data": {
            "image/png": "[encoded data removed]",
            "text/plain": [
              "<Figure size 432x288 with 1 Axes>"
            ]
          },
          "metadata": {
            "tags": []
          }
        }
      ]
    },
    {
      "cell_type": "code",
      "metadata": {
        "id": "fGfphjvGyqWP",
        "colab_type": "code",
        "colab": {}
      },
      "source": [
        ""
      ],
      "execution_count": 0,
      "outputs": []
    },
    {
      "cell_type": "markdown",
      "metadata": {
        "id": "XjLfSFL6221V",
        "colab_type": "text"
      },
      "source": [
        "#Finding the best-fit curve"
      ]
    },
    {
      "cell_type": "markdown",
      "metadata": {
        "id": "FsUlIGp9yvLY",
        "colab_type": "text"
      },
      "source": [
        "####As we have plotted our data we will try to find the best optimised curve that will fit these data points.Looking at the data distribution let's first try to fit some polynomial with degree 2."
      ]
    },
    {
      "cell_type": "markdown",
      "metadata": {
        "id": "E_yzFOZo2-sY",
        "colab_type": "text"
      },
      "source": [
        ""
      ]
    },
    {
      "cell_type": "code",
      "metadata": {
        "id": "QtKqJQZfzA5X",
        "colab_type": "code",
        "outputId": "e739ecff-454b-48da-f675-2e924458173d",
        "colab": {
          "base_uri": "https://localhost:8080/",
          "height": 298
        }
      },
      "source": [
        "import operator\n",
        "\n",
        "import numpy as np\n",
        "import matplotlib.pyplot as plt\n",
        "\n",
        "from sklearn.linear_model import LinearRegression\n",
        "from sklearn.metrics import mean_squared_error, r2_score\n",
        "from sklearn.preprocessing import PolynomialFeatures\n",
        "\n",
        "np.random.seed(0)\n",
        "x = 2 - 3 * np.random.normal(0, 1, 20)\n",
        "y = x - 2 * (x ** 2) + 0.5 * (x ** 3) + np.random.normal(-3, 3, 20)\n",
        "\n",
        "# transforming the data to include another axis\n",
        "x = x[:, np.newaxis]\n",
        "y = y[:, np.newaxis]\n",
        "\n",
        "polynomial_features= PolynomialFeatures(degree=2)\n",
        "x_poly = polynomial_features.fit_transform(x)\n",
        "\n",
        "model = LinearRegression()\n",
        "model.fit(x_poly, y)\n",
        "y_poly_pred = model.predict(x_poly)\n",
        "\n",
        "rmse = np.sqrt(mean_squared_error(y,y_poly_pred))\n",
        "r2 = r2_score(y,y_poly_pred)\n",
        "print(rmse)\n",
        "print(r2)\n",
        "\n",
        "plt.scatter(x, y, s=10)\n",
        "# sort the values of x before line plot\n",
        "sort_axis = operator.itemgetter(0)\n",
        "sorted_zip = sorted(zip(x,y_poly_pred), key=sort_axis)\n",
        "x, y_poly_pred = zip(*sorted_zip)\n",
        "plt.plot(x, y_poly_pred, color='m')\n",
        "plt.show()"
      ],
      "execution_count": 0,
      "outputs": [
        {
          "output_type": "stream",
          "text": [
            "10.120437473614711\n",
            "0.8537647164420812\n"
          ],
          "name": "stdout"
        },
        {
          "output_type": "display_data",
          "data": {
            "image/png": "[encoded data removed]",
            "text/plain": [
              "<Figure size 432x288 with 1 Axes>"
            ]
          },
          "metadata": {
            "tags": []
          }
        }
      ]
    },
    {
      "cell_type": "code",
      "metadata": {
        "id": "1lFm-GaA2Tpc",
        "colab_type": "code",
        "colab": {}
      },
      "source": [
        ""
      ],
      "execution_count": 0,
      "outputs": []
    },
    {
      "cell_type": "markdown",
      "metadata": {
        "id": "x1yTybxC2iJY",
        "colab_type": "text"
      },
      "source": [
        "####Dosen't seems good. Let's try with some higher degree polynomial"
      ]
    },
    {
      "cell_type": "code",
      "metadata": {
        "id": "aY-d1_RT2t4k",
        "colab_type": "code",
        "outputId": "4becf2c0-e36a-4b20-a281-fd63361da651",
        "colab": {
          "base_uri": "https://localhost:8080/",
          "height": 298
        }
      },
      "source": [
        "import operator\n",
        "\n",
        "import numpy as np\n",
        "import matplotlib.pyplot as plt\n",
        "\n",
        "from sklearn.linear_model import LinearRegression\n",
        "from sklearn.metrics import mean_squared_error, r2_score\n",
        "from sklearn.preprocessing import PolynomialFeatures\n",
        "\n",
        "np.random.seed(0)\n",
        "x = 2 - 3 * np.random.normal(0, 1, 20)\n",
        "y = x - 2 * (x ** 2) + 0.5 * (x ** 3) + np.random.normal(-3, 3, 20)\n",
        "\n",
        "# transforming the data to include another axis\n",
        "x = x[:, np.newaxis]\n",
        "y = y[:, np.newaxis]\n",
        "\n",
        "polynomial_features= PolynomialFeatures(degree=3)\n",
        "x_poly = polynomial_features.fit_transform(x)\n",
        "\n",
        "model = LinearRegression()\n",
        "model.fit(x_poly, y)\n",
        "y_poly_pred = model.predict(x_poly)\n",
        "\n",
        "rmse = np.sqrt(mean_squared_error(y,y_poly_pred))\n",
        "r2 = r2_score(y,y_poly_pred)\n",
        "print(rmse)\n",
        "print(r2)\n",
        "\n",
        "plt.scatter(x, y, s=10)\n",
        "# sort the values of x before line plot\n",
        "sort_axis = operator.itemgetter(0)\n",
        "sorted_zip = sorted(zip(x,y_poly_pred), key=sort_axis)\n",
        "x, y_poly_pred = zip(*sorted_zip)\n",
        "plt.plot(x, y_poly_pred, color='m')\n",
        "plt.show()"
      ],
      "execution_count": 0,
      "outputs": [
        {
          "output_type": "stream",
          "text": [
            "3.449895507408725\n",
            "0.9830071790386679\n"
          ],
          "name": "stdout"
        },
        {
          "output_type": "display_data",
          "data": {
            "image/png": "[encoded data removed]",
            "text/plain": [
              "<Figure size 432x288 with 1 Axes>"
            ]
          },
          "metadata": {
            "tags": []
          }
        }
      ]
    },
    {
      "cell_type": "markdown",
      "metadata": {
        "id": "GrV1Qw633Arl",
        "colab_type": "text"
      },
      "source": [
        "####This fits well.\n"
      ]
    },
    {
      "cell_type": "markdown",
      "metadata": {
        "id": "Sd2YeHCf3GHl",
        "colab_type": "text"
      },
      "source": [
        "#####As now we have got our curve of best fit we will now try formulate some problem "
      ]
    },
    {
      "cell_type": "markdown",
      "metadata": {
        "id": "UJvKAzwDM0IM",
        "colab_type": "text"
      },
      "source": [
        "So, the problem is we can view it in terms of profit and loss. We can assume profit on y-axis and sales on x-axis. By seeing the curve we can say that initially the company was in a great loss. The roots of equation of this curve will give us the point from where the company started to lift up and after that it's profit started increasing."
      ]
    },
    {
      "cell_type": "code",
      "metadata": {
        "id": "dSMRoafe2zu5",
        "colab_type": "code",
        "outputId": "8d9bbfc7-7164-45bd-dc97-0255aff20708",
        "colab": {
          "base_uri": "https://localhost:8080/",
          "height": 33
        }
      },
      "source": [
        "def func(x): \n",
        "    return 0.5*x*x*x - 2*x*x + x + 40\n",
        "   \n",
        "# Prints root of func(x) \n",
        "# with error of EPSILON \n",
        "def bisection(a,b): \n",
        "  \n",
        "    if (func(a) * func(b) >= 0): \n",
        "        print(\"You have not assumed right a and b\\n\") \n",
        "        return\n",
        "   \n",
        "    c = a \n",
        "    while ((b-a) >= 0.01): \n",
        "  \n",
        "        # Find middle point \n",
        "        c = (a+b)/2\n",
        "   \n",
        "        # Check if middle point is root \n",
        "        if (func(c) == 0.0): \n",
        "            break\n",
        "   \n",
        "        # Decide the side to repeat the steps \n",
        "        if (func(c)*func(a) < 0): \n",
        "            b = c \n",
        "        else: \n",
        "            a = c \n",
        "              \n",
        "    print(\"The value of root is : \",\"%.4f\"%c) \n",
        "      \n",
        "# Driver code \n",
        "# Initial values assumed \n",
        "a = -4\n",
        "b = 100\n",
        "bisection(a, b) "
      ],
      "execution_count": 0,
      "outputs": [
        {
          "output_type": "stream",
          "text": [
            "The value of root is :  -3.1938\n"
          ],
          "name": "stdout"
        }
      ]
    },
    {
      "cell_type": "code",
      "metadata": {
        "id": "lYmfpd2aOTxX",
        "colab_type": "code",
        "colab": {}
      },
      "source": [
        ""
      ],
      "execution_count": 0,
      "outputs": []
    }
  ]
}